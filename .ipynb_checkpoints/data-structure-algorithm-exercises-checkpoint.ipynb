{
 "cells": [
  {
   "cell_type": "code",
   "execution_count": 5,
   "id": "104411ba-a816-4ffe-acc7-ed01c713d1f8",
   "metadata": {},
   "outputs": [
    {
     "name": "stdout",
     "output_type": "stream",
     "text": [
      "Second largest in: [12, 35, 1, 10, 34, 1] is 34\n",
      "Second largest in: [10, 5, 10] is 5\n",
      "Second largest in: [10, 10, 10] is -1\n"
     ]
    }
   ],
   "source": [
    "# Given an array of positive integers arr[] of size n, the task is to find second largest distinct element in the array.\n",
    "# Note: If the second largest element does not exist, return -1.\n",
    "# Examples:\n",
    "# Input: arr[] = [12, 35, 1, 10, 34, 1]\n",
    "# Output: 34\n",
    "# Explanation: The largest element of the array is 35 and the second largest element is 34.\n",
    "# Input: arr[] = [10, 5, 10]\n",
    "# Output: 5\n",
    "# Explanation: The largest element of the array is 10 and the second largest element is 5.\n",
    "# Input: arr[] = [10, 10, 10]\n",
    "# Output: -1\n",
    "# Explanation: The largest element of the array is 10 there is no second largest element.\n",
    "# Table of Content\n",
    "# [Naive Approach] Using Sorting\n",
    "# [Better Approach] Two Pass Search\n",
    "# [Expected Approach] One Pass Search\n",
    "\n",
    "def getSecondLargest(arr):\n",
    "    '''\n",
    "    Find the second largest distinct element from an array\n",
    "\n",
    "    Arg: \n",
    "        A list of positive distinct number\n",
    "        \n",
    "    Return:\n",
    "        Find the second distinct number, or -1 if there is none\n",
    "    '''\n",
    "    if len(arr) < 2:\n",
    "        return -1\n",
    "\n",
    "    first = float('-inf')\n",
    "    second = float('-inf')\n",
    "    \n",
    "    for x in arr:\n",
    "        if x > first:\n",
    "            second = first\n",
    "            first = x\n",
    "        elif x > second and x != first:\n",
    "            second = x\n",
    "    return second if second != float('-inf') else -1\n",
    "\n",
    "arr1 = [12, 35, 1, 10, 34, 1]\n",
    "print(f'Second largest in: {arr1} is {getSecondLargest(arr1)}')\n",
    "\n",
    "arr2 = [10, 5, 10]\n",
    "print(f\"Second largest in: {arr2} is {getSecondLargest(arr2)}\")\n",
    "\n",
    "arr3 = [10, 10, 10]\n",
    "print(f\"Second largest in: {arr3} is {getSecondLargest(arr3)}\")"
   ]
  },
  {
   "cell_type": "code",
   "execution_count": 6,
   "id": "a90c7702-a9b0-4d8a-8b75-60ee9e7957c6",
   "metadata": {},
   "outputs": [],
   "source": [
    "# You are given an array arr[] of non-negative integers. Your task is to move all the zeros in the array to the right end while maintaining the relative order of the non-zero elements. The operation must be performed in place, meaning you should not use extra space for another array.\n",
    "# Examples:\n",
    "# Input: arr[] = [1, 2, 0, 4, 3, 0, 5, 0]\n",
    "# Output: [1, 2, 4, 3, 5, 0, 0, 0]\n",
    "# Explanation: There are three 0s that are moved to the end.\n",
    "# Input: arr[] = [10, 20, 30]\n",
    "# Output: [10, 20, 30]\n",
    "# Explanation: No change in array as there are no 0s.\n",
    "# Input: arr[] = [0, 0]\n",
    "# Output: [0, 0]\n",
    "# Explanation: No change in array as there are all 0s.\n",
    "# Constraints:\n",
    "# 1 ≤ arr.size() ≤ 105\n",
    "# 0 ≤ arr[i] ≤ 105\n",
    "\n",
    "def moveZeroToEnd(arr):\n",
    "    '''\n",
    "    Move all zeros in an array to the right end without changing the order of zeros and non-zero elements.\n",
    "\n",
    "    Args:\n",
    "        arr: A list of non-negative integers.\n",
    "    '''\n",
    "\n",
    "    n = len(arr)\n",
    "    # Pointer for the next non-zero element position\n",
    "    insert_pos = 0\n",
    "\n",
    "    # Interate through the array\n",
    "    for i in range(n):\n",
    "    #   If the current element is non-zero\n",
    "        if arr[i] != 0:\n",
    "        #    Move the non-zero to the insert-position\n",
    "            arr[insert_pos] = arr[i]\n",
    "        #    Increment the insert position\n",
    "            insert_pos += 1\n",
    "\n",
    "    # Fill the rest of the array with zeros from the insert positions\n",
    "    while insert_pos < n:\n",
    "       arr[insert_pos] = 0 \n",
    "       insert_pos += 1\n",
    "    return arr"
   ]
  },
  {
   "cell_type": "code",
   "execution_count": 7,
   "id": "ff1c0185",
   "metadata": {},
   "outputs": [
    {
     "name": "stdout",
     "output_type": "stream",
     "text": [
      "Move zeros to end: [1, 2, 0, 4, 3, 0, 5, 9] is [1, 2, 4, 3, 5, 9, 0, 0]\n"
     ]
    }
   ],
   "source": [
    "# Example Usage:\n",
    "arr1 = [1, 2, 0, 4, 3, 0, 5, 9]\n",
    "print(f'Move zeros to end: {arr1} is {moveZeroToEnd(arr1)}')"
   ]
  },
  {
   "cell_type": "code",
   "execution_count": 8,
   "id": "36bfdede",
   "metadata": {},
   "outputs": [
    {
     "name": "stdout",
     "output_type": "stream",
     "text": [
      "Move zeros to end: [10, 20, 30], is [10, 20, 30]\n"
     ]
    }
   ],
   "source": [
    "arr2 = [10, 20, 30]\n",
    "print(f'Move zeros to end: {arr2}, is {moveZeroToEnd(arr2)}')"
   ]
  },
  {
   "cell_type": "code",
   "execution_count": 9,
   "id": "3721a443",
   "metadata": {},
   "outputs": [
    {
     "name": "stdout",
     "output_type": "stream",
     "text": [
      "Move zeros to end: [0, 0], is [0, 0]\n"
     ]
    }
   ],
   "source": [
    "arr3 = [0, 0]\n",
    "print(f\"Move zeros to end: {arr3}, is {moveZeroToEnd(arr3)}\")"
   ]
  },
  {
   "cell_type": "markdown",
   "id": "717af613",
   "metadata": {},
   "source": [
    "Given an array arr[], the task is to reverse the array. Reversing an array means rearranging the elements such that the first element becomes the last, the second element becomes second last and so on.\n",
    "\n",
    "Examples:\n",
    "\n",
    "Input: arr[] = {1, 4, 3, 2, 6, 5}\n",
    "Output: {5, 6, 2, 3, 4, 1}\n",
    "Explanation: The first element 1 moves to last position, the second element 4 moves to second-last and so on.\n",
    "\n",
    "Input: arr[] = {4, 5, 1, 2}\n",
    "Output: {2, 1, 5, 4}\n",
    "Explanation: The first element 4 moves to last position, the second element 5 moves to second last and so on.\n",
    "\n"
   ]
  },
  {
   "cell_type": "markdown",
   "id": "51c3526c",
   "metadata": {},
   "source": [
    "[Naive Approach] Using a temporary array - O(n) Time and O(n) Space\n",
    "The idea is to use a temporary array to store the reverse of the array.\n",
    "\n",
    "Create a temporary array of same size as the original array.\n",
    "Now, copy all elements from original array to the temporary array in reverse order.\n",
    "Finally, copy all the elements from temporary array back to the original array."
   ]
  },
  {
   "cell_type": "code",
   "execution_count": null,
   "id": "183cea99-dae0-4bb4-b377-7120fe945516",
   "metadata": {},
   "outputs": [],
   "source": [
    "# Program to reverse an array using temporary array\n",
    "# Function to reverse an array\n",
    "def reversearray(arr):\n",
    "    n = len(arr)\n",
    "\n",
    "    temp = [0] * n # Create a temporary array of the same size\n",
    "    for i in range(n):\n",
    "        temp[i] = arr[n] -1 - i # Copy elements in reverse order\n",
    "\n",
    "    # Copy elements bacj to the original array\n",
    "    for i in range(n):\n",
    "        arr[i] = temp[i]\n",
    "\n",
    "    "
   ]
  },
  {
   "cell_type": "code",
   "execution_count": null,
   "id": "ccd0536b",
   "metadata": {},
   "outputs": [],
   "source": [
    "if __name__ == \"__main__\":\n",
    "    arr = [1, 4, 3, 2, 6 , 5]\n",
    "    print(f\"array before reversing: {reversearray(arr)}\")"
   ]
  },
  {
   "cell_type": "code",
   "execution_count": null,
   "id": "c8297196",
   "metadata": {},
   "outputs": [],
   "source": []
  }
 ],
 "metadata": {
  "kernelspec": {
   "display_name": "Python 3 (ipykernel)",
   "language": "python",
   "name": "python3"
  },
  "language_info": {
   "codemirror_mode": {
    "name": "ipython",
    "version": 3
   },
   "file_extension": ".py",
   "mimetype": "text/x-python",
   "name": "python",
   "nbconvert_exporter": "python",
   "pygments_lexer": "ipython3",
   "version": "3.12.7"
  }
 },
 "nbformat": 4,
 "nbformat_minor": 5
}
